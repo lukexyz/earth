{
 "cells": [
  {
   "cell_type": "code",
   "execution_count": 1,
   "metadata": {},
   "outputs": [],
   "source": [
    "import cv2\n",
    "%load_ext autoreload\n",
    "%autoreload 2"
   ]
  },
  {
   "cell_type": "code",
   "execution_count": 9,
   "metadata": {},
   "outputs": [],
   "source": [
    "# 1. Split Video into Frames\n",
    "\n",
    "cap = cv2.VideoCapture('data/video/outside_1.mp4')\n",
    "skip_n_frames = 6\n",
    "\n",
    "count = 0\n",
    "success = 1\n",
    "while success: \n",
    "    success, img = cap.read() \n",
    "    # Saves the frames with frame-count \n",
    "    if count % skip_n_frames == 0:\n",
    "        cv2.imwrite(f\"data/video/outside_1/frame{count:03d}.jpg\", img) \n",
    "    count += 1\n"
   ]
  },
  {
   "cell_type": "code",
   "execution_count": 8,
   "metadata": {},
   "outputs": [
    {
     "name": "stdout",
     "output_type": "stream",
     "text": [
      "yes\n"
     ]
    }
   ],
   "source": [
    "if 6 % 6 == 0:\n",
    "    print('yes')"
   ]
  },
  {
   "cell_type": "code",
   "execution_count": 11,
   "metadata": {},
   "outputs": [
    {
     "name": "stdout",
     "output_type": "stream",
     "text": [
      "2123 frames saved\n"
     ]
    }
   ],
   "source": [
    "print(f'{count} frames saved')"
   ]
  },
  {
   "cell_type": "code",
   "execution_count": null,
   "metadata": {},
   "outputs": [],
   "source": [
    "import warnings\n",
    "warnings.filterwarnings(\"ignore\")"
   ]
  },
  {
   "cell_type": "code",
   "execution_count": null,
   "metadata": {
    "scrolled": true
   },
   "outputs": [],
   "source": [
    "class Opt:\n",
    "    image_folder = 'data/video/craft_vid/'\n",
    "    output_path = 'data/video/craft_vid_processed/'\n",
    "    show_img = False\n",
    "    save_fig = True\n",
    "    \n",
    "    model_def = \"config/yolov3.cfg\"\n",
    "    weights_path = \"weights/yolov3.weights\"\n",
    "    class_path = \"data/coco.names\"\n",
    "    \n",
    "    conf_thres = 0.8\n",
    "    nms_thres = 0.4\n",
    "    batch_size = 1\n",
    "    n_cpu = 0\n",
    "    img_size = 416\n",
    "    \n",
    "opt = Opt()\n",
    "\n",
    "imgs, dets = detector(opt)"
   ]
  },
  {
   "cell_type": "code",
   "execution_count": null,
   "metadata": {},
   "outputs": [],
   "source": [
    "# 1. Convert frames back to video\n",
    "\n",
    "cap = cv2.VideoCapture('data/video/craft_vid.mp4')\n",
    "count = 0\n",
    "success = 1\n",
    "while success: \n",
    "    success, img = cap.read() \n",
    "    # Saves the frames with frame-count \n",
    "    cv2.imwrite(\"data/video/craft_vid/frame%d.jpg\" % count, img) \n",
    "    count += 1"
   ]
  },
  {
   "cell_type": "code",
   "execution_count": 20,
   "metadata": {},
   "outputs": [
    {
     "name": "stdout",
     "output_type": "stream",
     "text": [
      "./data/video/output_vid/frame079.png\n",
      "./data/video/output_vid/frame080.png\n",
      "./data/video/output_vid/frame081.png\n",
      "./data/video/output_vid/frame082.png\n",
      "./data/video/output_vid/frame083.png\n",
      "./data/video/output_vid/frame086.png\n",
      "./data/video/output_vid/frame088.png\n",
      "./data/video/output_vid/frame091.png\n",
      "./data/video/output_vid/frame092.png\n",
      "./data/video/output_vid/frame094.png\n",
      "./data/video/output_vid/frame095.png\n",
      "./data/video/output_vid/frame096.png\n",
      "./data/video/output_vid/frame097.png\n",
      "./data/video/output_vid/frame098.png\n",
      "./data/video/output_vid/frame099.png\n"
     ]
    }
   ],
   "source": [
    "import os\n",
    "from os.path import isfile, join\n",
    " \n",
    "def convert_frames_to_video(pathIn,pathOut,fps):\n",
    "    frame_array = []\n",
    "    files = [f for f in os.listdir(pathIn) if isfile(join(pathIn, f))]\n",
    " \n",
    "    #for sorting the file names properly\n",
    "    files.sort(key = lambda x: int(x[5:-4]))\n",
    " \n",
    "    for i in range(len(files)):\n",
    "        filename=pathIn + files[i]\n",
    "        #reading each files\n",
    "        img = cv2.imread(filename)\n",
    "        height, width, layers = img.shape\n",
    "        size = (width,height)\n",
    "        print(filename)\n",
    "        #inserting the frames into an image array\n",
    "        frame_array.append(img)\n",
    " \n",
    "    out = cv2.VideoWriter(pathOut,cv2.VideoWriter_fourcc(*'DIVX'), fps, size)\n",
    " \n",
    "    for i in range(len(frame_array)):\n",
    "        # writing to a image array\n",
    "        out.write(frame_array[i])\n",
    "    out.release()\n",
    "\n",
    "\n",
    "pathIn= './data/video/output_vid/'\n",
    "pathOut = './data/video/craft_output.avi'\n",
    "fps = 8\n",
    "convert_frames_to_video(pathIn, pathOut, fps)\n"
   ]
  }
 ],
 "metadata": {
  "kernelspec": {
   "display_name": "Python 3.7.4 ('base')",
   "language": "python",
   "name": "python3"
  },
  "language_info": {
   "codemirror_mode": {
    "name": "ipython",
    "version": 3
   },
   "file_extension": ".py",
   "mimetype": "text/x-python",
   "name": "python",
   "nbconvert_exporter": "python",
   "pygments_lexer": "ipython3",
   "version": "3.7.4"
  },
  "vscode": {
   "interpreter": {
    "hash": "e42634819b8c191a5d07eaf23810ff32516dd8d3875f28ec3e488928fbd3c187"
   }
  }
 },
 "nbformat": 4,
 "nbformat_minor": 2
}
